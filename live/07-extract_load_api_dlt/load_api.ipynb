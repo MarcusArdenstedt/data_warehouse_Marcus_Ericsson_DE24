{
 "cells": [
  {
   "cell_type": "markdown",
   "id": "0245bfad",
   "metadata": {},
   "source": [
    "## Explorer data from jobtech"
   ]
  },
  {
   "cell_type": "code",
   "execution_count": 1,
   "id": "e0a4d317",
   "metadata": {},
   "outputs": [],
   "source": [
    "# build- in python libaries\n",
    "import requests\n",
    "import json\n",
    "\n"
   ]
  },
  {
   "cell_type": "code",
   "execution_count": 2,
   "id": "7e9dad40",
   "metadata": {},
   "outputs": [],
   "source": [
    "#from JOBTECH API code example which can be siplified\n",
    "def _get_ads(url_for_search, params):\n",
    "    headers = {\"accept\": \"application/json\"}\n",
    "    response = requests.get(url_for_search, headers=headers, params=params)\n",
    "    response.raise_for_status()  # check for http errors\n",
    "    return json.loads(response.content.decode(\"utf8\"))"
   ]
  },
  {
   "cell_type": "code",
   "execution_count": 3,
   "id": "7bf043ad",
   "metadata": {},
   "outputs": [],
   "source": [
    "# input to _get_ads function\n",
    "url = \"https://jobsearch.api.jobtechdev.se\" # base url\n",
    "url_for_search = f\"{url}/search\" # base url + a choosen endpoint\n",
    "params = {\n",
    "    \"q\": \"data engineer\",\n",
    "    \"limit\": 100,\n",
    "}\n",
    "\n"
   ]
  },
  {
   "cell_type": "code",
   "execution_count": 6,
   "id": "82080e22",
   "metadata": {},
   "outputs": [],
   "source": [
    "# all available job ads with the cobination of input above\n",
    "all_job_ads = _get_ads(url_for_search, params)\n",
    "\n",
    "\n"
   ]
  },
  {
   "cell_type": "code",
   "execution_count": 7,
   "id": "8cadf4e0",
   "metadata": {},
   "outputs": [
    {
     "data": {
      "text/plain": [
       "dict"
      ]
     },
     "execution_count": 7,
     "metadata": {},
     "output_type": "execute_result"
    }
   ],
   "source": [
    "# what is the data type of all_job\n",
    "type(all_job_ads)"
   ]
  },
  {
   "cell_type": "code",
   "execution_count": 8,
   "id": "3c9e4c09",
   "metadata": {},
   "outputs": [
    {
     "data": {
      "text/plain": [
       "dict_keys(['total', 'positions', 'query_time_in_millis', 'result_time_in_millis', 'stats', 'freetext_concepts', 'hits'])"
      ]
     },
     "execution_count": 8,
     "metadata": {},
     "output_type": "execute_result"
    }
   ],
   "source": [
    "# check keys for dict\n",
    "all_job_ads.keys()"
   ]
  },
  {
   "cell_type": "code",
   "execution_count": null,
   "id": "40d28794",
   "metadata": {},
   "outputs": [],
   "source": [
    "# check out value paired up with key \"hits\"\n",
    "# we can see that the value is a list of dictionary\n",
    "all_job_ads[\"hits\"]\n"
   ]
  },
  {
   "cell_type": "code",
   "execution_count": null,
   "id": "7b17bad9",
   "metadata": {},
   "outputs": [
    {
     "data": {
      "text/plain": [
       "70"
      ]
     },
     "execution_count": 9,
     "metadata": {},
     "output_type": "execute_result"
    }
   ],
   "source": [
    "# how many dictionary are there under this hits\n",
    "len(all_job_ads[\"hits\"])"
   ]
  },
  {
   "cell_type": "code",
   "execution_count": 12,
   "id": "c6258520",
   "metadata": {},
   "outputs": [],
   "source": [
    "# take a look at the first element in the list as a job ad example\n",
    "# all_job_ads[\"hits\"][-1]"
   ]
  },
  {
   "cell_type": "code",
   "execution_count": 13,
   "id": "5510e01f",
   "metadata": {},
   "outputs": [
    {
     "data": {
      "text/plain": [
       "dict_keys(['relevance', 'id', 'external_id', 'original_id', 'label', 'webpage_url', 'logo_url', 'headline', 'application_deadline', 'number_of_vacancies', 'description', 'employment_type', 'salary_type', 'salary_description', 'duration', 'working_hours_type', 'scope_of_work', 'access', 'employer', 'application_details', 'experience_required', 'access_to_own_car', 'driving_license_required', 'driving_license', 'occupation', 'occupation_group', 'occupation_field', 'workplace_address', 'must_have', 'nice_to_have', 'application_contacts', 'publication_date', 'last_publication_date', 'removed', 'removed_date', 'source_type', 'timestamp'])"
      ]
     },
     "execution_count": 13,
     "metadata": {},
     "output_type": "execute_result"
    }
   ],
   "source": [
    "# check out all keys for one job dict\n",
    "all_job_ads[\"hits\"][-1].keys()"
   ]
  },
  {
   "cell_type": "code",
   "execution_count": 14,
   "id": "23e2edcf",
   "metadata": {},
   "outputs": [
    {
     "data": {
      "text/plain": [
       "{'skills': [],\n",
       " 'languages': [],\n",
       " 'work_experiences': [],\n",
       " 'education': [],\n",
       " 'education_level': []}"
      ]
     },
     "execution_count": 14,
     "metadata": {},
     "output_type": "execute_result"
    }
   ],
   "source": [
    "# check out value paired with \"must_have\" key\n",
    "all_job_ads[\"hits\"][-1][\"must_have\"]\n"
   ]
  },
  {
   "cell_type": "markdown",
   "id": "4bead4d7",
   "metadata": {},
   "source": [
    "## Generate Functions\n",
    "- lazy expression\n",
    "- memory efficients"
   ]
  },
  {
   "cell_type": "code",
   "execution_count": 15,
   "id": "68cc57ce",
   "metadata": {},
   "outputs": [],
   "source": [
    "def nr_generator_function():\n",
    "    for i in range(5):\n",
    "        yield i "
   ]
  },
  {
   "cell_type": "code",
   "execution_count": 16,
   "id": "c5d79fd3",
   "metadata": {},
   "outputs": [],
   "source": [
    "# call for the number generator function to create a number generator\n",
    "nr_generator = nr_generator_function()\n"
   ]
  },
  {
   "cell_type": "code",
   "execution_count": null,
   "id": "2bcfcc82",
   "metadata": {},
   "outputs": [
    {
     "data": {
      "text/plain": [
       "<generator object nr_generator_function at 0x0000021D5694F400>"
      ]
     },
     "execution_count": 17,
     "metadata": {},
     "output_type": "execute_result"
    }
   ],
   "source": [
    "# lazy expression cannot see contents before using it\n",
    "nr_generator"
   ]
  },
  {
   "cell_type": "code",
   "execution_count": 18,
   "id": "dc23b926",
   "metadata": {},
   "outputs": [
    {
     "data": {
      "text/plain": [
       "[0, 1, 2, 3, 4]"
      ]
     },
     "execution_count": 18,
     "metadata": {},
     "output_type": "execute_result"
    }
   ],
   "source": [
    "# use it as list -first time\n",
    "list(nr_generator)"
   ]
  },
  {
   "cell_type": "code",
   "execution_count": null,
   "id": "4130a5d6",
   "metadata": {},
   "outputs": [
    {
     "data": {
      "text/plain": [
       "[]"
      ]
     },
     "execution_count": 19,
     "metadata": {},
     "output_type": "execute_result"
    }
   ],
   "source": [
    "# we cannot use the contents for the second time -> memory efficient\n",
    "list(nr_generator)\n"
   ]
  },
  {
   "cell_type": "markdown",
   "id": "5d72f998",
   "metadata": {},
   "source": [
    "## job generator exampel\n"
   ]
  },
  {
   "cell_type": "code",
   "execution_count": 20,
   "id": "a41a995e",
   "metadata": {},
   "outputs": [],
   "source": [
    "\n",
    "def jobads_resource(params):\n",
    "\n",
    "    url = \"https://jobsearch.api.jobtechdev.se\"\n",
    "    url_for_search = f\"{url}/search\"\n",
    "\n",
    "    for ad in _get_ads(url_for_search, params)[\"hits\"]:\n",
    "        yield ad\n"
   ]
  },
  {
   "cell_type": "code",
   "execution_count": 24,
   "id": "27990ab1",
   "metadata": {},
   "outputs": [],
   "source": [
    "job_generator = jobads_resource(params)"
   ]
  },
  {
   "cell_type": "code",
   "execution_count": null,
   "id": "8af25ac1",
   "metadata": {},
   "outputs": [],
   "source": [
    "# First time\n",
    "list(job_generator)"
   ]
  },
  {
   "cell_type": "code",
   "execution_count": null,
   "id": "960357ad",
   "metadata": {},
   "outputs": [
    {
     "data": {
      "text/plain": [
       "[]"
      ]
     },
     "execution_count": 26,
     "metadata": {},
     "output_type": "execute_result"
    }
   ],
   "source": [
    "# second time -> empty list\n",
    "list(job_generator)"
   ]
  }
 ],
 "metadata": {
  "kernelspec": {
   "display_name": "data_warehouse_Marcus_Ericsson_DE24",
   "language": "python",
   "name": "python3"
  },
  "language_info": {
   "codemirror_mode": {
    "name": "ipython",
    "version": 3
   },
   "file_extension": ".py",
   "mimetype": "text/x-python",
   "name": "python",
   "nbconvert_exporter": "python",
   "pygments_lexer": "ipython3",
   "version": "3.13.7"
  }
 },
 "nbformat": 4,
 "nbformat_minor": 5
}
